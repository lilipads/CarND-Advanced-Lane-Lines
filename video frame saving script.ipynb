{
 "cells": [
  {
   "cell_type": "code",
   "execution_count": 1,
   "metadata": {
    "collapsed": true
   },
   "outputs": [],
   "source": [
    "import cv2"
   ]
  },
  {
   "cell_type": "code",
   "execution_count": 3,
   "metadata": {
    "collapsed": true
   },
   "outputs": [],
   "source": [
    "vidcap = cv2.VideoCapture('project_video.mp4')\n",
    "success,image = vidcap.read()\n",
    "count = 0\n",
    "success = True\n",
    "while success:\n",
    "    success,image = vidcap.read()\n",
    "    cv2.imwrite(\"project_video_frames/frame%d.jpg\" % count, image)     # save frame as JPEG file\n",
    "    if cv2.waitKey(10) == 27: # exit if Escape is hit\n",
    "      break\n",
    "    count += 1\n",
    "    if count % 100 == 0:\n",
    "        print(count,)"
   ]
  },
  {
   "cell_type": "code",
   "execution_count": 2,
   "metadata": {},
   "outputs": [
    {
     "name": "stdout",
     "output_type": "stream",
     "text": [
      "100\n",
      "200\n",
      "300\n",
      "400\n",
      "500\n",
      "600\n",
      "700\n",
      "800\n",
      "900\n",
      "1000\n",
      "1100\n"
     ]
    }
   ],
   "source": [
    "vidcap = cv2.VideoCapture('harder_challenge_video.mp4')\n",
    "sucess, image = vidcap.read()\n",
    "count = 0\n",
    "success = True\n",
    "while success:\n",
    "    success,image = vidcap.read()\n",
    "    cv2.imwrite(\"harder_challenge_frames/frame%d.jpg\" % count, image)     # save frame as JPEG file\n",
    "    if cv2.waitKey(10) == 27: # exit if Escape is hit\n",
    "      break\n",
    "    count += 1\n",
    "    if count % 100 == 0:\n",
    "        print(count,)"
   ]
  },
  {
   "cell_type": "code",
   "execution_count": null,
   "metadata": {
    "collapsed": true
   },
   "outputs": [],
   "source": []
  }
 ],
 "metadata": {
  "kernelspec": {
   "display_name": "Python 3",
   "language": "python",
   "name": "python3"
  },
  "language_info": {
   "codemirror_mode": {
    "name": "ipython",
    "version": 3
   },
   "file_extension": ".py",
   "mimetype": "text/x-python",
   "name": "python",
   "nbconvert_exporter": "python",
   "pygments_lexer": "ipython3",
   "version": "3.5.2"
  },
  "widgets": {
   "state": {},
   "version": "1.1.2"
  }
 },
 "nbformat": 4,
 "nbformat_minor": 2
}
